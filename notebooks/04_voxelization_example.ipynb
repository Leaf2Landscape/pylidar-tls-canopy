{
 "cells": [
  {
   "cell_type": "markdown",
   "id": "57690537-ef0b-418f-b511-0208d55388d5",
   "metadata": {},
   "source": [
    "# Example 04. Develop a voxel-based model of $P_{gap}$"
   ]
  },
  {
   "cell_type": "markdown",
   "id": "d2cca931-f8e0-4a77-964b-bfc5e9f18b8d",
   "metadata": {},
   "source": [
    "This example builds a voxel-based model of directional gap probability, $P_{gap}$($\\theta$), using multiple scan positions"
   ]
  },
  {
   "cell_type": "markdown",
   "id": "f28800c8-fbc5-45f8-b916-50bcc2b5f2a8",
   "metadata": {},
   "source": [
    "## Load all the required modules"
   ]
  },
  {
   "cell_type": "code",
   "execution_count": 1,
   "id": "90e9b285-7354-4868-b85c-79c1ee430640",
   "metadata": {},
   "outputs": [],
   "source": [
    "import os\n",
    "import numpy as np\n",
    "\n",
    "import matplotlib\n",
    "import matplotlib.pyplot as plt\n",
    "from mpl_toolkits.axes_grid1 import make_axes_locatable\n",
    "from mpl_toolkits.axes_grid1.inset_locator import inset_axes\n",
    "from matplotlib.ticker import MaxNLocator\n",
    "\n",
    "from pylidar_canopy import voxelization, riegl_io"
   ]
  },
  {
   "cell_type": "markdown",
   "id": "d7de7f65-8125-478f-8fdd-6db0c282bbe2",
   "metadata": {},
   "source": [
    "## Some plotting functions"
   ]
  },
  {
   "cell_type": "code",
   "execution_count": null,
   "id": "aa6f4e54-c155-49ce-90e5-10e42463a9df",
   "metadata": {},
   "outputs": [],
   "source": []
  },
  {
   "cell_type": "markdown",
   "id": "4502d32b-3b47-48b8-ba16-91eea50bc3d2",
   "metadata": {},
   "source": [
    "## Identify all of the input files"
   ]
  },
  {
   "cell_type": "markdown",
   "id": "c4874e3b-d60f-4d6d-8494-39654add472d",
   "metadata": {},
   "source": [
    "We need both the RDBX and RXP files for the VZ400i and later scanner models. The RDBX have the point cloud corrected with RIEGL MTA processing, and the RXP files have all the pulse information for shots with not returns, allowing us to separate the absence of a return from the absence of a measurement.\n",
    "\n",
    "If you are using a RIEGL VZ400 scanner or used a pulse rate <= 300khz, then you only need the RXP files."
   ]
  },
  {
   "cell_type": "code",
   "execution_count": 2,
   "id": "7bbd6652-3737-4f54-82af-ba9f7546422e",
   "metadata": {},
   "outputs": [],
   "source": [
    "os.chdir('/gpfs/data1/vclgp/data/tls_point_clouds/riegl_registered/maeda_Amazon_Dimona-100ha-SOUTH.RiSCAN')\n",
    "\n",
    "# Upright scan files\n",
    "upright_rxp_fn = 'SCANS/ScanPos001/SINGLESCANS/190426_112319.rxp'\n",
    "upright_rdbx_fn = 'project.rdb/SCANS/ScanPos001/SINGLESCANS/190426_112319/190426_112319.rdbx'\n",
    "upright_transform_fn = 'project.rdb/SCANS/ScanPos001.DAT'\n",
    "\n",
    "# Tilt scan files\n",
    "tilt_rxp_fn = 'SCANS/ScanPos002/SINGLESCANS/190426_112552.rxp'\n",
    "tilt_rdbx_fn = 'project.rdb/SCANS/ScanPos002/SINGLESCANS/190426_112552/190426_112552.rdbx'\n",
    "tilt_transform_fn = 'project.rdb/SCANS/ScanPos002.DAT'"
   ]
  },
  {
   "cell_type": "markdown",
   "id": "85cf132d-5f9d-482a-a490-cd1bd4995c81",
   "metadata": {},
   "source": [
    "## Process each scan on the same voxel grid"
   ]
  },
  {
   "cell_type": "code",
   "execution_count": 3,
   "id": "087cac55-5934-4ef3-a563-eaae982efd79",
   "metadata": {},
   "outputs": [],
   "source": [
    "bounds = [0,0,-10,100,100,40]\n",
    "voxelsize = 1.0\n",
    "\n",
    "vgrid = voxelization.VoxelGrid(bounds, voxelsize) "
   ]
  },
  {
   "cell_type": "code",
   "execution_count": 4,
   "id": "49fc8ddf-1db6-46f3-acbb-907afb1983f0",
   "metadata": {},
   "outputs": [],
   "source": [
    "vgrid.add_riegl_scan_position_rxp(upright_rxp_fn, upright_transform_fn)"
   ]
  },
  {
   "cell_type": "code",
   "execution_count": 5,
   "id": "6442bf86-60d4-4e44-9a9c-b1e3ecff256b",
   "metadata": {},
   "outputs": [],
   "source": [
    "vgrid.voxelize_scan()"
   ]
  },
  {
   "cell_type": "code",
   "execution_count": 6,
   "id": "e94a8c0a-531d-42d6-ba03-3e6f9321dad1",
   "metadata": {},
   "outputs": [],
   "source": [
    "prefix = '/gpfs/data1/vclgp/armstonj/tls_temp/190426_112319'\n",
    "vgrid.write_grids(prefix)"
   ]
  },
  {
   "cell_type": "code",
   "execution_count": null,
   "id": "5360e962-5ee8-405f-a754-7a9f5c8b374d",
   "metadata": {},
   "outputs": [],
   "source": []
  }
 ],
 "metadata": {
  "kernelspec": {
   "display_name": "Python 3 (ipykernel)",
   "language": "python",
   "name": "python3"
  },
  "language_info": {
   "codemirror_mode": {
    "name": "ipython",
    "version": 3
   },
   "file_extension": ".py",
   "mimetype": "text/x-python",
   "name": "python",
   "nbconvert_exporter": "python",
   "pygments_lexer": "ipython3",
   "version": "3.10.8"
  }
 },
 "nbformat": 4,
 "nbformat_minor": 5
}
