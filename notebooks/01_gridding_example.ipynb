{
 "cells": [
  {
   "cell_type": "markdown",
   "id": "a6e9eeac",
   "metadata": {},
   "source": [
    "# Example 01. Gridding of the scan data"
   ]
  },
  {
   "cell_type": "markdown",
   "id": "de07f0b6",
   "metadata": {},
   "source": [
    "This example generates grids in spherical and scan coordinate systems. Aside from simply visualizing your scan and exporting them to an open image format format (e.g., GeoTiff), these also allow you to check for instrument artefacts and azimuth/zenith angles ranges to use in the estimation of vertical plant profiles. These are some useful tools for single scans and/or directional gap probability modeling, however more standard point cloud processing (e.g., segmentation) is better done using dedicated software."
   ]
  },
  {
   "cell_type": "markdown",
   "id": "5399266c",
   "metadata": {},
   "source": [
    "## Load all the required modules"
   ]
  },
  {
   "cell_type": "code",
   "execution_count": 2,
   "id": "630b24c2",
   "metadata": {},
   "outputs": [
    {
     "ename": "ModuleNotFoundError",
     "evalue": "No module named 'pylidar_canopy'",
     "output_type": "error",
     "traceback": [
      "\u001b[0;31m---------------------------------------------------------------------------\u001b[0m",
      "\u001b[0;31mModuleNotFoundError\u001b[0m                       Traceback (most recent call last)",
      "\u001b[0;32m<ipython-input-2-125d4ee947c5>\u001b[0m in \u001b[0;36m<module>\u001b[0;34m\u001b[0m\n\u001b[1;32m      8\u001b[0m \u001b[0;32mfrom\u001b[0m \u001b[0mmatplotlib\u001b[0m\u001b[0;34m.\u001b[0m\u001b[0mticker\u001b[0m \u001b[0;32mimport\u001b[0m \u001b[0mMaxNLocator\u001b[0m\u001b[0;34m\u001b[0m\u001b[0;34m\u001b[0m\u001b[0m\n\u001b[1;32m      9\u001b[0m \u001b[0;34m\u001b[0m\u001b[0m\n\u001b[0;32m---> 10\u001b[0;31m \u001b[0;32mfrom\u001b[0m \u001b[0mpylidar_canopy\u001b[0m \u001b[0;32mimport\u001b[0m \u001b[0mriegl_io\u001b[0m\u001b[0;34m,\u001b[0m \u001b[0mgrid\u001b[0m\u001b[0;34m\u001b[0m\u001b[0;34m\u001b[0m\u001b[0m\n\u001b[0m",
      "\u001b[0;31mModuleNotFoundError\u001b[0m: No module named 'pylidar_canopy'"
     ]
    }
   ],
   "source": [
    "import os\n",
    "import numpy as np\n",
    "\n",
    "import matplotlib\n",
    "import matplotlib.pyplot as plt\n",
    "from mpl_toolkits.axes_grid1 import make_axes_locatable\n",
    "from mpl_toolkits.axes_grid1.inset_locator import inset_axes\n",
    "from matplotlib.ticker import MaxNLocator\n",
    "\n",
    "from pylidar_canopy import riegl_io, grid"
   ]
  },
  {
   "cell_type": "markdown",
   "id": "0d5011c5",
   "metadata": {},
   "source": [
    "## Some plotting functions"
   ]
  },
  {
   "cell_type": "code",
   "execution_count": null,
   "id": "db00bc41",
   "metadata": {},
   "outputs": [],
   "source": [
    "def plot_riegl_grid(data, label='Range (m)', clim=[0,30], figsize=(16,10), nbins=10,\n",
    "                    cmap='bone', nreturns=None, extend='max', nodata=-9999, extent=None,\n",
    "                    xlabel=None, ylabel=None, facecolor='white', title=False):\n",
    "    \"\"\"Example function to plot a RIEGL grid\"\"\"\n",
    "    if nreturns is None:\n",
    "        nreturns = data.shape[0]\n",
    "    fig, ax = plt.subplots(ncols=1, nrows=nreturns, squeeze=False, \n",
    "                           sharex=False, sharey=False, figsize=figsize)\n",
    "    with plt.style.context('seaborn-notebook'):\n",
    "        for i in range(nreturns):  \n",
    "            ax[i,0].set_facecolor(facecolor)\n",
    "            ax[i,0].set(adjustable='box', aspect='equal')\n",
    "            ax[i,0].set(xlabel=xlabel, ylabel=ylabel)\n",
    "            if title and nreturns > 1:\n",
    "                ax[i,0].set_title(f'Return {i+1:d} (maximum {data.shape[0]:d})', fontsize=14)\n",
    "            if extent is None:\n",
    "                ax[i,0].get_xaxis().set_visible(False)\n",
    "                ax[i,0].get_yaxis().set_visible(False)\n",
    "            tmp = np.ma.masked_equal(data[i], nodata)\n",
    "            p = ax[i,0].imshow(tmp, interpolation='nearest', clim=clim, \n",
    "                               cmap=matplotlib.cm.get_cmap(cmap,nbins),  \n",
    "                               vmin=clim[0], vmax=clim[1], extent=extent)\n",
    "            divider = make_axes_locatable(ax[i,0])\n",
    "            cax = divider.append_axes('right', size='2%', pad=0.05)\n",
    "            cbar = fig.colorbar(p, label=label, cax=cax, extend=extend)\n",
    "            cbar.ax.yaxis.set_major_locator(MaxNLocator(integer=True, nbins=nbins))\n",
    "    fig.tight_layout()\n",
    "    plt.show()\n"
   ]
  },
  {
   "cell_type": "markdown",
   "id": "20ba5068",
   "metadata": {},
   "source": [
    "## Identify all of the input files"
   ]
  },
  {
   "cell_type": "markdown",
   "id": "26a5cafa",
   "metadata": {},
   "source": [
    "If you are using a RIEGL VZ400 scanner or used a pulse rate <= 300khz, then you only need the RXP files for point cloud data."
   ]
  },
  {
   "cell_type": "code",
   "execution_count": null,
   "id": "711b2a07",
   "metadata": {},
   "outputs": [],
   "source": [
    "os.chdir('/gpfs/data1/vclgp/data/tls_point_clouds/riegl_registered/maeda_Amazon_Dimona-100ha-SOUTH.RiSCAN')\n",
    "\n",
    "# Upright scan files\n",
    "upright_rxp_fn = 'SCANS/ScanPos001/SINGLESCANS/190426_112319.rxp'\n",
    "upright_rdbx_fn = 'project.rdb/SCANS/ScanPos001/SINGLESCANS/190426_112319/190426_112319.rdbx'\n",
    "upright_transform_fn = 'project.rdb/SCANS/ScanPos001.DAT'\n",
    "\n",
    "# Tilt scan files\n",
    "tilt_rxp_fn = 'SCANS/ScanPos002/SINGLESCANS/190426_112552.rxp'\n",
    "tilt_rdbx_fn = 'project.rdb/SCANS/ScanPos002/SINGLESCANS/190426_112552/190426_112552.rdbx'\n",
    "tilt_transform_fn = 'project.rdb/SCANS/ScanPos002.DAT'"
   ]
  },
  {
   "cell_type": "markdown",
   "id": "37311e9b",
   "metadata": {},
   "source": [
    "## Grid and visualize the scan data"
   ]
  },
  {
   "cell_type": "markdown",
   "id": "cb7dc7ce",
   "metadata": {},
   "source": [
    "### RDBX point data in the scan coordinate system"
   ]
  },
  {
   "cell_type": "markdown",
   "id": "415dc374",
   "metadata": {},
   "source": [
    "The scan coordinate system is scan line (x-axis), scan line index (y-axis) and return number (z-axis). Each cell contains the data for one shot. The RDBX files only have data for shots with returns - nothing is retained for shots without returns."
   ]
  },
  {
   "cell_type": "code",
   "execution_count": null,
   "id": "13899626",
   "metadata": {},
   "outputs": [],
   "source": [
    "upright_reflectance_grid = grid.grid_rdbx_scan(upright_rdbx_fn, attribute='reflectance')"
   ]
  },
  {
   "cell_type": "code",
   "execution_count": null,
   "id": "cba2c45b",
   "metadata": {},
   "outputs": [],
   "source": [
    "plot_riegl_grid(upright_reflectance_grid, label='Reflectance (dB)', nreturns=2, clim=[-15,0],\n",
    "                figsize=(16,8), nbins=15, cmap='turbo', extend='both', facecolor='white', \n",
    "                extent=[1,upright_reflectance_grid.shape[2],1,upright_reflectance_grid.shape[1]], \n",
    "                xlabel='Scan Line', ylabel='Scan Line Index', title=True)"
   ]
  },
  {
   "cell_type": "code",
   "execution_count": null,
   "id": "56f61aba",
   "metadata": {},
   "outputs": [],
   "source": [
    "tilt_reflectance_grid = grid.grid_rdbx_scan(tilt_rdbx_fn, attribute='reflectance')"
   ]
  },
  {
   "cell_type": "code",
   "execution_count": null,
   "id": "c8e0ae93",
   "metadata": {},
   "outputs": [],
   "source": [
    "plot_riegl_grid(tilt_reflectance_grid, label='Reflectance (dB)', nreturns=2, clim=[-15,0],\n",
    "                figsize=(16,8), nbins=15, cmap='turbo', extend='both', facecolor='white',\n",
    "                extent=[1,upright_reflectance_grid.shape[2],1,upright_reflectance_grid.shape[1]], \n",
    "                xlabel='Scan Line', ylabel='Scan Line Index', title=True)"
   ]
  },
  {
   "cell_type": "markdown",
   "id": "3168af14",
   "metadata": {},
   "source": [
    "### RXP pulse data in the scan coordinate system"
   ]
  },
  {
   "cell_type": "markdown",
   "id": "8ba87d78",
   "metadata": {},
   "source": [
    "The RXP files have data for all shots with returns, even if there are no returns for that shot. However the VZ400i and later instruments, and/or scans with a pulse rate > 300 kHz, use multi-time-around (MTA) processing to allow more than one pulse in the air at a time. This means there may be ambigutity on which shot a return belongs to, so the RDBX files should be used for point cloud measurements."
   ]
  },
  {
   "cell_type": "code",
   "execution_count": null,
   "id": "0c51bce5",
   "metadata": {},
   "outputs": [],
   "source": [
    "upright_count_grid = grid.grid_rxp_scan(upright_rxp_fn, attribute='target_count')"
   ]
  },
  {
   "cell_type": "code",
   "execution_count": null,
   "id": "faa199c1",
   "metadata": {},
   "outputs": [],
   "source": [
    "plot_riegl_grid(upright_count_grid, label='Return Count', clim=[-0.5,4.5], figsize=(12,8), \n",
    "                nbins=5, cmap='bone', extend='neither', facecolor='lightyellow',\n",
    "                extent=[1,upright_reflectance_grid.shape[2],1,upright_reflectance_grid.shape[1]], \n",
    "                xlabel='Scan Line', ylabel='Scan Line Index')"
   ]
  },
  {
   "cell_type": "markdown",
   "id": "941cf8ce",
   "metadata": {},
   "source": [
    "### RDBX point data in the spherical coordinate system"
   ]
  },
  {
   "cell_type": "markdown",
   "id": "ae50a4d9",
   "metadata": {},
   "source": [
    "The spherical coordinate system is azimuth ($\\phi$, x-axis), zenith ($\\theta$, y-axis) and range ($r$, z-axis), which is used in the derivation of vertical profiles based on the directional gap probability, $P_{gap}$($\\phi$, $\\theta$, $r$). Note that RDBX files have no data for shots with no return, so we can't easily separate a gap from the absence of a measurement."
   ]
  },
  {
   "cell_type": "code",
   "execution_count": null,
   "id": "ff271761",
   "metadata": {},
   "outputs": [],
   "source": [
    "# method can be 'MEAN', 'MIN', 'MAX' or 'SUM'\n",
    "upright_range_grid = grid.grid_rdbx_spherical(upright_rdbx_fn, upright_transform_fn, 0.1, \n",
    "                                              attribute='range', first_only=True, method='MEAN')"
   ]
  },
  {
   "cell_type": "code",
   "execution_count": null,
   "id": "9316235d",
   "metadata": {},
   "outputs": [],
   "source": [
    "plot_riegl_grid(upright_range_grid, label='Range (m)', clim=[0,10], figsize=(12,8), \n",
    "                nbins=10, cmap='bone', extent=[0,360,180,0], \n",
    "                xlabel='Azimuth', ylabel='Zenith', facecolor='lightyellow')"
   ]
  },
  {
   "cell_type": "code",
   "execution_count": null,
   "id": "26a289b4",
   "metadata": {},
   "outputs": [],
   "source": [
    "tilt_range_grid = grid.grid_rdbx_spherical(tilt_rdbx_fn, tilt_transform_fn, 0.1, \n",
    "                                           attribute='range', first_only=True, method='MEAN')"
   ]
  },
  {
   "cell_type": "code",
   "execution_count": null,
   "id": "792e1630",
   "metadata": {},
   "outputs": [],
   "source": [
    "plot_riegl_grid(tilt_range_grid, label='Range (m)', clim=[0,10], figsize=(12,8), \n",
    "                nbins=10, cmap='bone', extent=[0,360,180,0], \n",
    "                xlabel='Azimuth', ylabel='Zenith', facecolor='lightyellow')"
   ]
  },
  {
   "cell_type": "markdown",
   "id": "e16a32f4",
   "metadata": {},
   "source": [
    "### RXP pulse data in the spherical coordinate system"
   ]
  },
  {
   "cell_type": "markdown",
   "id": "057ad6fe",
   "metadata": {},
   "source": [
    "We extract pulse direction vectors from the RXP instead of RDBX files. An alternative solution is to interpolate shot direction vectors from the shots with returns, however there is no need because we have the actual measurements in the RXP files. There can also be interpolation errors, especially in sparse sites, and this approach does not account for missing data."
   ]
  },
  {
   "cell_type": "code",
   "execution_count": null,
   "id": "c543c1b3",
   "metadata": {},
   "outputs": [],
   "source": [
    "upright_zenith_grid = grid.grid_rxp_spherical(upright_rxp_fn, upright_transform_fn, 0.1, \n",
    "                                              attribute='zenith', method='MEAN')"
   ]
  },
  {
   "cell_type": "code",
   "execution_count": null,
   "id": "614583a0",
   "metadata": {},
   "outputs": [],
   "source": [
    "plot_riegl_grid(upright_zenith_grid, label='Radians', clim=[0,np.pi], figsize=(12,8), \n",
    "                nbins=100, cmap='bone', extent=[0,360,180,0], \n",
    "                xlabel='Azimuth', ylabel='Zenith', facecolor='lightyellow')"
   ]
  },
  {
   "cell_type": "code",
   "execution_count": null,
   "id": "77665a5b",
   "metadata": {},
   "outputs": [],
   "source": [
    "tilt_zenith_grid = grid.grid_rxp_spherical(tilt_rxp_fn, tilt_transform_fn, 0.1, \n",
    "                                           attribute='zenith', method='MEAN')"
   ]
  },
  {
   "cell_type": "code",
   "execution_count": null,
   "id": "55c42dae",
   "metadata": {},
   "outputs": [],
   "source": [
    "plot_riegl_grid(tilt_zenith_grid, label='Radians', clim=[0,np.pi], figsize=(12,8), \n",
    "                nbins=100, cmap='bone', extent=[0,360,180,0], \n",
    "                xlabel='Azimuth', ylabel='Zenith', facecolor='lightyellow')"
   ]
  },
  {
   "cell_type": "markdown",
   "id": "32ffbf67",
   "metadata": {},
   "source": [
    "### RDBX point data in the cartesian coordinate system"
   ]
  },
  {
   "cell_type": "markdown",
   "id": "8e9827ed",
   "metadata": {},
   "source": [
    "The point cloud data in the RDBX files can also be gridded in the sensor origin coordinate (SOC) cartesian coordinate system. This can be useful for checking the results of plane fitting (see 'Example 02. Generate a single scan PAVD profile'), deriving canopy height models, or visualizing and modeling the \"star\", which is related to canopy structure and complexity."
   ]
  },
  {
   "cell_type": "code",
   "execution_count": null,
   "id": "7b679bfe",
   "metadata": {},
   "outputs": [],
   "source": [
    "xsize = ysize = 100\n",
    "z_grid = grid.grid_rdbx_cartesian([upright_rdbx_fn,tilt_rdbx_fn], [upright_transform_fn,tilt_transform_fn], \n",
    "                                  0.5, extent=[xsize,ysize], ulc=[-xsize/2,ysize/2], attribute='z', method='MAX')"
   ]
  },
  {
   "cell_type": "code",
   "execution_count": null,
   "id": "312770fb",
   "metadata": {},
   "outputs": [],
   "source": [
    "plot_riegl_grid(z_grid, label='Z (m)', clim=[-5,35], figsize=(7,7), \n",
    "                nbins=8, cmap='gist_earth', extent=[-xsize/2,xsize/2,-ysize/2,ysize/2], \n",
    "                xlabel='X (m)', ylabel='Y (m)', facecolor='0.5', extend='both')"
   ]
  },
  {
   "cell_type": "code",
   "execution_count": null,
   "id": "f79c0b0f",
   "metadata": {},
   "outputs": [],
   "source": []
  }
 ],
 "metadata": {
  "kernelspec": {
   "display_name": "Python 3",
   "language": "python",
   "name": "python3"
  },
  "language_info": {
   "codemirror_mode": {
    "name": "ipython",
    "version": 3
   },
   "file_extension": ".py",
   "mimetype": "text/x-python",
   "name": "python",
   "nbconvert_exporter": "python",
   "pygments_lexer": "ipython3",
   "version": "3.7.8"
  }
 },
 "nbformat": 4,
 "nbformat_minor": 5
}
